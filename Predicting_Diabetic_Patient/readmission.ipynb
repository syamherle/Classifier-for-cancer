{
 "cells": [
  {
   "cell_type": "markdown",
   "metadata": {},
   "source": [
    "## Start Time 07.20 PM\n",
    "\n",
    "## End Timne 09.20 PM"
   ]
  },
  {
   "cell_type": "code",
   "execution_count": 298,
   "metadata": {
    "collapsed": true
   },
   "outputs": [],
   "source": [
    "import pandas as pd\n",
    "import numpy as np\n",
    "\n",
    "\n",
    "# sklearn preprocessing for dealing with categorical variables\n",
    "from sklearn.preprocessing import LabelEncoder\n",
    "import matplotlib.pyplot as plt\n",
    "import seaborn as sns"
   ]
  },
  {
   "cell_type": "code",
   "execution_count": 299,
   "metadata": {
    "collapsed": true
   },
   "outputs": [],
   "source": [
    "data = pd.read_csv('training_data.csv')\n"
   ]
  },
  {
   "cell_type": "code",
   "execution_count": 300,
   "metadata": {
    "collapsed": true
   },
   "outputs": [],
   "source": [
    "#Replacing the ? with the NA for all the dataframe\n",
    "data = data.replace('?', np.NaN)\n"
   ]
  },
  {
   "cell_type": "code",
   "execution_count": 301,
   "metadata": {
    "collapsed": true
   },
   "outputs": [],
   "source": [
    "# Find the misssing column of the dataframe\n",
    "\n",
    "def missing_values_table(df):\n",
    "        # Total missing values\n",
    "        mis_val = df.isnull().sum()\n",
    "        \n",
    "        # Percentage of missing values\n",
    "        mis_val_percent = 100 * df.isnull().sum() / len(df)\n",
    "        \n",
    "        # Make a table with the results\n",
    "        mis_val_table = pd.concat([mis_val, mis_val_percent], axis=1)\n",
    "        \n",
    "        # Rename the columns\n",
    "        mis_val_table_ren_columns = mis_val_table.rename(\n",
    "        columns = {0 : 'Missing Values', 1 : '% of Total Values'})\n",
    "        \n",
    "        # Sort the table by percentage of missing descending\n",
    "        mis_val_table_ren_columns = mis_val_table_ren_columns[\n",
    "            mis_val_table_ren_columns.iloc[:,1] != 0].sort_values(\n",
    "        '% of Total Values', ascending=False).round(1)\n",
    "        \n",
    "        # Print some summary information\n",
    "        print (\"Your selected dataframe has \" + str(df.shape[1]) + \" columns.\\n\"      \n",
    "            \"There are \" + str(mis_val_table_ren_columns.shape[0]) +\n",
    "              \" columns that have missing values.\")\n",
    "        \n",
    "        # Return the dataframe with missing information\n",
    "        return mis_val_table_ren_columns"
   ]
  },
  {
   "cell_type": "code",
   "execution_count": 302,
   "metadata": {},
   "outputs": [
    {
     "name": "stdout",
     "output_type": "stream",
     "text": [
      "Your selected dataframe has 50 columns.\n",
      "There are 7 columns that have missing values.\n"
     ]
    },
    {
     "data": {
      "text/html": [
       "<div>\n",
       "<style scoped>\n",
       "    .dataframe tbody tr th:only-of-type {\n",
       "        vertical-align: middle;\n",
       "    }\n",
       "\n",
       "    .dataframe tbody tr th {\n",
       "        vertical-align: top;\n",
       "    }\n",
       "\n",
       "    .dataframe thead th {\n",
       "        text-align: right;\n",
       "    }\n",
       "</style>\n",
       "<table border=\"1\" class=\"dataframe\">\n",
       "  <thead>\n",
       "    <tr style=\"text-align: right;\">\n",
       "      <th></th>\n",
       "      <th>Missing Values</th>\n",
       "      <th>% of Total Values</th>\n",
       "    </tr>\n",
       "  </thead>\n",
       "  <tbody>\n",
       "    <tr>\n",
       "      <th>weight</th>\n",
       "      <td>78844</td>\n",
       "      <td>96.8</td>\n",
       "    </tr>\n",
       "    <tr>\n",
       "      <th>medical_specialty</th>\n",
       "      <td>39935</td>\n",
       "      <td>49.1</td>\n",
       "    </tr>\n",
       "    <tr>\n",
       "      <th>payer_code</th>\n",
       "      <td>32231</td>\n",
       "      <td>39.6</td>\n",
       "    </tr>\n",
       "    <tr>\n",
       "      <th>race</th>\n",
       "      <td>1813</td>\n",
       "      <td>2.2</td>\n",
       "    </tr>\n",
       "    <tr>\n",
       "      <th>diag_3</th>\n",
       "      <td>1125</td>\n",
       "      <td>1.4</td>\n",
       "    </tr>\n",
       "    <tr>\n",
       "      <th>diag_2</th>\n",
       "      <td>288</td>\n",
       "      <td>0.4</td>\n",
       "    </tr>\n",
       "    <tr>\n",
       "      <th>diag_1</th>\n",
       "      <td>18</td>\n",
       "      <td>0.0</td>\n",
       "    </tr>\n",
       "  </tbody>\n",
       "</table>\n",
       "</div>"
      ],
      "text/plain": [
       "                   Missing Values  % of Total Values\n",
       "weight                      78844               96.8\n",
       "medical_specialty           39935               49.1\n",
       "payer_code                  32231               39.6\n",
       "race                         1813                2.2\n",
       "diag_3                       1125                1.4\n",
       "diag_2                        288                0.4\n",
       "diag_1                         18                0.0"
      ]
     },
     "execution_count": 302,
     "metadata": {},
     "output_type": "execute_result"
    }
   ],
   "source": [
    "missing_values = missing_values_table(data)\n",
    "missing_values.head(20)"
   ]
  },
  {
   "cell_type": "code",
   "execution_count": 303,
   "metadata": {},
   "outputs": [
    {
     "name": "stdout",
     "output_type": "stream",
     "text": [
      "(81414, 50)\n"
     ]
    }
   ],
   "source": [
    "print(data.shape)\n"
   ]
  },
  {
   "cell_type": "markdown",
   "metadata": {},
   "source": [
    "From the above missing value statistic we see that weight has more missing values, we can drop the columns with\n",
    "high percentage of missing value but we wont know the importance of the column, so we will keep and impute it with median and find its importantce"
   ]
  },
  {
   "cell_type": "code",
   "execution_count": 304,
   "metadata": {},
   "outputs": [
    {
     "name": "stdout",
     "output_type": "stream",
     "text": [
      "13 columns were label encoded.\n"
     ]
    }
   ],
   "source": [
    "#Use label encoding for the categorical value of two value and one-hot\n",
    "#encoding of column values which has more than two values\n",
    "\n",
    "le = LabelEncoder()\n",
    "le_count = 0\n",
    "\n",
    "# Iterate through the columns\n",
    "for col in data:\n",
    "    if data[col].dtype == 'object':\n",
    "        # If 2 or fewer unique categories\n",
    "        if len(list(data[col].unique())) <= 2:\n",
    "            # Train on the training data\n",
    "            le.fit(data[col])\n",
    "            # Transform both training and testing data\n",
    "            data[col] = le.transform(data[col])\n",
    "            \n",
    "            \n",
    "            # Keep track of how many columns were label encoded\n",
    "            le_count += 1\n",
    "            \n",
    "print('%d columns were label encoded.' % le_count)\n",
    "\n"
   ]
  },
  {
   "cell_type": "code",
   "execution_count": 305,
   "metadata": {},
   "outputs": [
    {
     "data": {
      "image/png": "[encoded data removed]",
      "text/plain": [
       "<Figure size 432x288 with 1 Axes>"
      ]
     },
     "metadata": {},
     "output_type": "display_data"
    }
   ],
   "source": [
    "# We will leave the age column as of now \n",
    "\n",
    "data['readmitted'].astype(int).plot.hist();\n"
   ]
  },
  {
   "cell_type": "markdown",
   "metadata": {},
   "source": [
    "## The data is highly imbalanced, so we will use preciion and recall for evaluating the model"
   ]
  },
  {
   "cell_type": "markdown",
   "metadata": {},
   "source": [
    "# One hot Encoding "
   ]
  },
  {
   "cell_type": "code",
   "execution_count": 306,
   "metadata": {
    "collapsed": true
   },
   "outputs": [],
   "source": [
    "data  = pd.get_dummies(data)"
   ]
  },
  {
   "cell_type": "code",
   "execution_count": 307,
   "metadata": {},
   "outputs": [
    {
     "data": {
      "text/plain": [
       "Index(['encounter_id', 'patient_nbr', 'admission_type_id',\n",
       "       'discharge_disposition_id', 'admission_source_id', 'time_in_hospital',\n",
       "       'num_lab_procedures', 'num_procedures', 'num_medications',\n",
       "       'number_outpatient',\n",
       "       ...\n",
       "       'miglitol_Steady', 'miglitol_Up', 'insulin_Down', 'insulin_No',\n",
       "       'insulin_Steady', 'insulin_Up', 'glyburide-metformin_Down',\n",
       "       'glyburide-metformin_No', 'glyburide-metformin_Steady',\n",
       "       'glyburide-metformin_Up'],\n",
       "      dtype='object', length=2371)"
      ]
     },
     "execution_count": 307,
     "metadata": {},
     "output_type": "execute_result"
    }
   ],
   "source": [
    "data.columns"
   ]
  },
  {
   "cell_type": "code",
   "execution_count": 308,
   "metadata": {},
   "outputs": [
    {
     "data": {
      "text/plain": [
       "(81414, 2371)"
      ]
     },
     "execution_count": 308,
     "metadata": {},
     "output_type": "execute_result"
    }
   ],
   "source": [
    "data.shape"
   ]
  },
  {
   "cell_type": "code",
   "execution_count": 309,
   "metadata": {
    "collapsed": true
   },
   "outputs": [],
   "source": [
    "#Get the target variable from the data\n",
    "from sklearn.model_selection import train_test_split\n",
    "target = data['readmitted']\n",
    "data = data.drop(['readmitted'],axis=1)\n",
    "\n",
    "#Splitting the data into train and test\n",
    "\n",
    "X_train, X_test, y_train, y_test = train_test_split(data, target, test_size=0.33, random_state=42)"
   ]
  },
  {
   "cell_type": "code",
   "execution_count": 310,
   "metadata": {},
   "outputs": [
    {
     "data": {
      "image/png": "[encoded data removed]",
      "text/plain": [
       "<Figure size 432x288 with 1 Axes>"
      ]
     },
     "metadata": {},
     "output_type": "display_data"
    }
   ],
   "source": [
    "y_train.astype(int).plot.hist();"
   ]
  },
  {
   "cell_type": "code",
   "execution_count": 311,
   "metadata": {
    "collapsed": true
   },
   "outputs": [],
   "source": [
    "train_encounter = X_train['encounter_id']\n",
    "\n",
    "\n",
    "test_encounter = X_test['encounter_id']\n",
    "\n"
   ]
  },
  {
   "cell_type": "code",
   "execution_count": 312,
   "metadata": {
    "collapsed": true
   },
   "outputs": [],
   "source": [
    "X_test = X_test.drop(['encounter_id'],axis=1)\n",
    "X_train = X_train.drop(['encounter_id'],axis=1)"
   ]
  },
  {
   "cell_type": "markdown",
   "metadata": {},
   "source": [
    "# Preprocessing \n",
    "\n",
    "### Imputation to handle missing data and Scaling the data so that it will be normalized"
   ]
  },
  {
   "cell_type": "code",
   "execution_count": 313,
   "metadata": {},
   "outputs": [
    {
     "name": "stdout",
     "output_type": "stream",
     "text": [
      "Training data shape:  (54547, 2369)\n",
      "Testing data shape:  (26867, 2369)\n"
     ]
    }
   ],
   "source": [
    "\n",
    "\n",
    "from sklearn.preprocessing import MinMaxScaler, Imputer\n",
    "\n",
    "\n",
    "train = X_train.copy()\n",
    "\n",
    "\n",
    "# Feature names\n",
    "features = list(train.columns)\n",
    "\n",
    "# Copy of the testing data\n",
    "test = X_test.copy()\n",
    "\n",
    "# Median imputation of missing values\n",
    "imputer = Imputer(strategy = 'median')\n",
    "\n",
    "# Scale each feature to 0-1\n",
    "scaler = MinMaxScaler(feature_range = (0, 1))\n",
    "\n",
    "# Fit on the training data\n",
    "imputer.fit(train)\n",
    "\n",
    "# Transform both training and testing data\n",
    "train = imputer.transform(train)\n",
    "test = imputer.transform(test)\n",
    "\n",
    "# Repeat with the scaler\n",
    "scaler.fit(train)\n",
    "train = scaler.transform(train)\n",
    "test = scaler.transform(test)\n",
    "\n",
    "print('Training data shape: ', train.shape)\n",
    "print('Testing data shape: ', test.shape)"
   ]
  },
  {
   "cell_type": "markdown",
   "metadata": {},
   "source": [
    "### Logisitc Regression\n",
    "\n",
    "We will use logistic regression model to predict the readmittence , the model predicts the given example based on the probability, the model main assumption is the log odd ratio has linear relationship with predictors"
   ]
  },
  {
   "cell_type": "code",
   "execution_count": 314,
   "metadata": {},
   "outputs": [
    {
     "data": {
      "text/plain": [
       "LogisticRegression(C=0.1, class_weight='balanced', dual=False,\n",
       "          fit_intercept=True, intercept_scaling=1, max_iter=100,\n",
       "          multi_class='ovr', n_jobs=1, penalty='l1', random_state=None,\n",
       "          solver='liblinear', tol=0.0001, verbose=0, warm_start=False)"
      ]
     },
     "execution_count": 314,
     "metadata": {},
     "output_type": "execute_result"
    }
   ],
   "source": [
    "#Fitting a baseline logistic regression model along with L2 Regularrization\n",
    "\n",
    "\n",
    "from sklearn.linear_model import LogisticRegression\n",
    "\n",
    "# Make the model with the specified regularization parameter\n",
    "log_reg = LogisticRegression(penalty='l1',C = 0.1,class_weight=\"balanced\")\n",
    "\n",
    "# Train on the training data\n",
    "log_reg.fit(train, y_train)"
   ]
  },
  {
   "cell_type": "code",
   "execution_count": 315,
   "metadata": {},
   "outputs": [
    {
     "name": "stdout",
     "output_type": "stream",
     "text": [
      "\n",
      "The probability values of the test data of training\n",
      "[0.31996478 0.62416216 0.39112994 ... 0.35289646 0.34872148 0.36571673]\n",
      "Accuracy of logistic regression classifier on test set: 0.66\n"
     ]
    }
   ],
   "source": [
    "#prediction\n",
    "\n",
    "predictions_lr = log_reg.predict_proba(test)[:,1]\n",
    "\n",
    "#Since we have high class imbalance problem we will set different threshold for classification and check precision \n",
    "#and recall for them\n",
    "predictions_lr_y =[1 if i>0.5 else 0 for i in predictions_lr]\n",
    "\n",
    "predictions_lr_y_9 =[1 if i>0.9 else 0 for i in predictions_lr]\n",
    "predictions_lr_y_7 =[1 if i>0.7 else 0 for i in predictions_lr]\n",
    "predictions_lr_y_5 =[1 if i>0.5 else 0 for i in predictions_lr]\n",
    "predictions_lr_y_3 =[1 if i>0.3 else 0 for i in predictions_lr]\n",
    "predictions_lr_y_15 =[1 if i>0.15 else 0 for i in predictions_lr]\n",
    "\n",
    "print()\n",
    "print(\"The probability values of the test data of training\")\n",
    "print(log_reg.predict_proba(test)[:,1])\n",
    "\n",
    "score_lr = log_reg.score(test, y_test)\n",
    "print('Accuracy of logistic regression classifier on test set: {:.2f}'.format(score_lr))\n",
    "\n"
   ]
  },
  {
   "cell_type": "code",
   "execution_count": 316,
   "metadata": {},
   "outputs": [
    {
     "name": "stdout",
     "output_type": "stream",
     "text": [
      "The positive and negative in the test data\n",
      "0    23853\n",
      "1     3014\n",
      "Name: readmitted, dtype: int64\n",
      "\n",
      "The confusion matrix with threshold 0.9\n",
      "[[23811    42]\n",
      " [ 2970    44]]\n",
      "\n",
      "The confusion matrix with threshold 0.7\n",
      "[[22905   948]\n",
      " [ 2641   373]]\n",
      "\n",
      "The confusion matrix with threshold 0.5\n",
      "[[16058  7795]\n",
      " [ 1392  1622]]\n",
      "\n",
      "The confusion matrix with threshold 0.3\n",
      "[[ 1420 22433]\n",
      " [   64  2950]]\n",
      "\n",
      "The confusion matrix with threshold 0.15\n",
      "[[    1 23852]\n",
      " [    0  3014]]\n"
     ]
    }
   ],
   "source": [
    "import matplotlib.pyplot as plt\n",
    "from sklearn import metrics\n",
    "cm_9 = metrics.confusion_matrix(y_test, predictions_lr_y_9)\n",
    "cm_7 = metrics.confusion_matrix(y_test, predictions_lr_y_7)\n",
    "cm_5 = metrics.confusion_matrix(y_test, predictions_lr_y_5)\n",
    "cm_3 = metrics.confusion_matrix(y_test, predictions_lr_y_3)\n",
    "cm_15 = metrics.confusion_matrix(y_test, predictions_lr_y_15)\n",
    "\n",
    "print(\"The positive and negative in the test data\")\n",
    "print(y_test.value_counts())\n",
    "print()\n",
    "print(\"The confusion matrix with threshold 0.9\")\n",
    "print(cm_9)\n",
    "print()\n",
    "print(\"The confusion matrix with threshold 0.7\")\n",
    "print(cm_7)\n",
    "print()\n",
    "print(\"The confusion matrix with threshold 0.5\")\n",
    "print(cm_5)\n",
    "print()\n",
    "print(\"The confusion matrix with threshold 0.3\")\n",
    "print(cm_3)\n",
    "print()\n",
    "print(\"The confusion matrix with threshold 0.15\")\n",
    "\n",
    "print(cm_15)\n"
   ]
  },
  {
   "cell_type": "markdown",
   "metadata": {},
   "source": [
    "#### The threshold 0.15 of classification threshold gives high recall/sensitivity, predicts everything as positive (denoting readmittence)\n",
    "\n",
    "#### The treshold 0.9 of classification threshold gives high precision, predicts  the given patient readmittence only if we are 90% sure that the patient will be readmitted.\n",
    "\n",
    "#### The accuracy of 0.5 probability model is 0.66\n",
    "\n",
    "#### We have L1 Regularization with 0.1 as regularization parameter"
   ]
  },
  {
   "cell_type": "code",
   "execution_count": 317,
   "metadata": {},
   "outputs": [
    {
     "data": {
      "text/plain": [
       "0    23853\n",
       "1     3014\n",
       "Name: readmitted, dtype: int64"
      ]
     },
     "execution_count": 317,
     "metadata": {},
     "output_type": "execute_result"
    }
   ],
   "source": [
    "y_test.value_counts()"
   ]
  },
  {
   "cell_type": "code",
   "execution_count": 318,
   "metadata": {},
   "outputs": [
    {
     "name": "stdout",
     "output_type": "stream",
     "text": [
      "             precision    recall  f1-score   support\n",
      "\n",
      "          0       0.92      0.67      0.78     23853\n",
      "          1       0.17      0.54      0.26      3014\n",
      "\n",
      "avg / total       0.84      0.66      0.72     26867\n",
      "\n"
     ]
    }
   ],
   "source": [
    "#Using Precision, recall, F1 as evaluation metric of the model\n",
    "from sklearn.metrics import classification_report\n",
    "print(classification_report(y_test, predictions_lr_y))"
   ]
  },
  {
   "cell_type": "markdown",
   "metadata": {},
   "source": [
    "# Advanced Model : RandomForest"
   ]
  },
  {
   "cell_type": "code",
   "execution_count": 319,
   "metadata": {
    "collapsed": true
   },
   "outputs": [],
   "source": [
    "#Improved Model\n",
    "from sklearn.ensemble import RandomForestClassifier\n",
    "\n",
    "# Make the random forest classifier\n",
    "random_forest = RandomForestClassifier(random_state = 42,class_weight=\"balanced\")"
   ]
  },
  {
   "cell_type": "code",
   "execution_count": 320,
   "metadata": {
    "collapsed": true
   },
   "outputs": [],
   "source": [
    "random_forest.fit(train, y_train)\n",
    "\n",
    "#make predicition\n",
    "pred_y = random_forest.predict(test)\n"
   ]
  },
  {
   "cell_type": "code",
   "execution_count": 321,
   "metadata": {},
   "outputs": [
    {
     "name": "stdout",
     "output_type": "stream",
     "text": [
      "Accuracy of baseline model 0.8876316671009045.\n"
     ]
    }
   ],
   "source": [
    "score = random_forest.score(test, y_test)\n",
    "print(\"Accuracy of baseline model {}.\".format(score))"
   ]
  },
  {
   "cell_type": "code",
   "execution_count": 322,
   "metadata": {},
   "outputs": [
    {
     "name": "stdout",
     "output_type": "stream",
     "text": [
      "[[23818    35]\n",
      " [ 2984    30]]\n"
     ]
    }
   ],
   "source": [
    "\n",
    "import matplotlib.pyplot as plt\n",
    "from sklearn import metrics\n",
    "cm = metrics.confusion_matrix(y_test, pred_y)\n",
    "print(cm)"
   ]
  },
  {
   "cell_type": "code",
   "execution_count": 323,
   "metadata": {},
   "outputs": [
    {
     "name": "stdout",
     "output_type": "stream",
     "text": [
      "             precision    recall  f1-score   support\n",
      "\n",
      "          0       0.89      1.00      0.94     23853\n",
      "          1       0.46      0.01      0.02      3014\n",
      "\n",
      "avg / total       0.84      0.89      0.84     26867\n",
      "\n"
     ]
    }
   ],
   "source": [
    "print(classification_report(y_test, pred_y))"
   ]
  },
  {
   "cell_type": "markdown",
   "metadata": {},
   "source": [
    "## Important Features\n",
    "\n",
    "#### Let us find the important features\n"
   ]
  },
  {
   "cell_type": "code",
   "execution_count": 324,
   "metadata": {
    "collapsed": true
   },
   "outputs": [],
   "source": [
    "#Plotting important features\n",
    "\n",
    "def plot_feature_importances(df):\n",
    "    \n",
    "    # Sort features according to importance\n",
    "    df = df.sort_values('importance', ascending = False).reset_index()\n",
    "    \n",
    "    # Normalize the feature importances to add up to one\n",
    "    df['importance_normalized'] = df['importance'] / df['importance'].sum()\n",
    "\n",
    "    # Make a horizontal bar chart of feature importances\n",
    "    plt.figure(figsize = (10, 6))\n",
    "    ax = plt.subplot()\n",
    "    \n",
    "    # Need to reverse the index to plot most important on top\n",
    "    ax.barh(list(reversed(list(df.index[:20]))), \n",
    "            df['importance_normalized'].head(20), \n",
    "            align = 'center', edgecolor = 'k')\n",
    "    \n",
    "    # Set the yticks and labels\n",
    "    ax.set_yticks(list(reversed(list(df.index[:20]))))\n",
    "    ax.set_yticklabels(df['feature'].head(20))\n",
    "    \n",
    "    # Plot labeling\n",
    "    plt.xlabel('Normalized (0 - 1)'); plt.title('Feature Importances')\n",
    "    plt.show()\n",
    "    \n",
    "    return df"
   ]
  },
  {
   "cell_type": "code",
   "execution_count": 325,
   "metadata": {},
   "outputs": [
    {
     "data": {
      "image/png": "[encoded data removed]",
      "text/plain": [
       "<Figure size 720x432 with 1 Axes>"
      ]
     },
     "metadata": {},
     "output_type": "display_data"
    }
   ],
   "source": [
    "feature_importance_values = random_forest.feature_importances_\n",
    "feature_importances = pd.DataFrame({'feature': features, 'importance': feature_importance_values})\n",
    "\n",
    "feature_importances_sorted = plot_feature_importances(feature_importances)"
   ]
  },
  {
   "cell_type": "markdown",
   "metadata": {},
   "source": [
    "### Some of the important features which helps in predicting readmittence are\n",
    "\n",
    " + Patient_nbr,\n",
    " + num_lab_procedures\n",
    " + num_medication\n",
    " + number_inpatient\n",
    " + time_in_hospoitals"
   ]
  },
  {
   "cell_type": "markdown",
   "metadata": {},
   "source": [
    "# Parameters of the improved model"
   ]
  },
  {
   "cell_type": "code",
   "execution_count": 326,
   "metadata": {},
   "outputs": [
    {
     "name": "stdout",
     "output_type": "stream",
     "text": [
      "Parameters currently in use:\n",
      "\n",
      "{'bootstrap': True,\n",
      " 'class_weight': 'balanced',\n",
      " 'criterion': 'gini',\n",
      " 'max_depth': None,\n",
      " 'max_features': 'auto',\n",
      " 'max_leaf_nodes': None,\n",
      " 'min_impurity_decrease': 0.0,\n",
      " 'min_impurity_split': None,\n",
      " 'min_samples_leaf': 1,\n",
      " 'min_samples_split': 2,\n",
      " 'min_weight_fraction_leaf': 0.0,\n",
      " 'n_estimators': 10,\n",
      " 'n_jobs': 1,\n",
      " 'oob_score': False,\n",
      " 'random_state': 42,\n",
      " 'verbose': 0,\n",
      " 'warm_start': False}\n"
     ]
    }
   ],
   "source": [
    "from pprint import pprint\n",
    "print('Parameters currently in use:\\n')\n",
    "pprint(random_forest.get_params())"
   ]
  },
  {
   "cell_type": "markdown",
   "metadata": {},
   "source": [
    "## ROC and AUC for Logistic Regression and RandomForest"
   ]
  },
  {
   "cell_type": "code",
   "execution_count": 327,
   "metadata": {},
   "outputs": [
    {
     "data": {
      "image/png": "[encoded data removed]",
      "text/plain": [
       "<Figure size 432x288 with 1 Axes>"
      ]
     },
     "metadata": {},
     "output_type": "display_data"
    }
   ],
   "source": [
    "from sklearn.metrics import roc_auc_score\n",
    "from sklearn.metrics import roc_curve\n",
    "\n",
    "#FPR and TPR from logistic regression\n",
    "logit_roc_auc = roc_auc_score(y_test, log_reg.predict(test))\n",
    "fpr_logit, tpr_logit, thresholds_logit = roc_curve(y_test, log_reg.predict_proba(test)[:,1])\n",
    "\n",
    "#FPR and TPR from base randomForestClassifier\n",
    "base_random_roc_auc = roc_auc_score(y_test, random_forest.predict(test))\n",
    "fpr_base_rf, tpr_base_rf, thresholds_base_rf = roc_curve(y_test, random_forest.predict_proba(test)[:,1])\n",
    "\n",
    "\n",
    "plt.figure()\n",
    "\n",
    "plt.plot(fpr_logit, tpr_logit, label='Logistic Regression (area = %0.2f)' % logit_roc_auc)\n",
    "plt.plot(fpr_base_rf, tpr_base_rf, label='RandomForest (area = %0.2f)' % base_random_roc_auc)\n",
    "\n",
    "\n",
    "plt.plot([0, 1], [0, 1],'r--')\n",
    "plt.xlim([0.0, 1.0])\n",
    "plt.ylim([0.0, 1.05])\n",
    "plt.xlabel('False Positive Rate')\n",
    "plt.ylabel('True Positive Rate')\n",
    "plt.title('Receiver operating characteristic')\n",
    "plt.legend(loc=\"lower right\")\n",
    "plt.savefig('Log_ROC')\n",
    "plt.show()"
   ]
  },
  {
   "cell_type": "markdown",
   "metadata": {},
   "source": [
    "## The Logistic Regression seems to be good model than RandomForest Classifier. \n",
    "\n",
    "## The above RoC of logistic regression model is of 0.5 threshold prediction.\n",
    "\n",
    "## If we want the business use case to predict a given patient as readmittence only if we are very confident then we need to increase the probability threshold of logistic regression to be 0.9 .\n",
    "\n",
    "## If we want to avoid missing many cases of readmittance we need to increase the recall so we need to set the probability threshold like 0.15\n",
    "\n",
    "## We will choose probability of 0.5, as it gives good accuracy and descent precision and recall"
   ]
  },
  {
   "cell_type": "code",
   "execution_count": 328,
   "metadata": {},
   "outputs": [
    {
     "name": "stdout",
     "output_type": "stream",
     "text": [
      "(20352, 49)\n",
      "12 columns were label encoded.\n",
      "(20352, 49)\n"
     ]
    }
   ],
   "source": [
    "#Test data prediction\n",
    "\n",
    "testing = pd.read_csv(\"test_data.csv\")\n",
    "\n",
    "testing = testing.replace('?', np.NaN)\n",
    "\n",
    "print(testing.shape)\n",
    "le = LabelEncoder()\n",
    "le_count = 0\n",
    "\n",
    "# Iterate through the columns\n",
    "for col in testing:\n",
    "    if testing[col].dtype == 'object':\n",
    "        # If 2 or fewer unique categories\n",
    "        if len(list(testing[col].unique())) <= 2:\n",
    "            # Train on the training data\n",
    "            le.fit(testing[col])\n",
    "            # Transform both training and testing data\n",
    "            testing[col] = le.transform(testing[col])\n",
    "            \n",
    "            \n",
    "            # Keep track of how many columns were label encoded\n",
    "            le_count += 1\n",
    "            \n",
    "print('%d columns were label encoded.' % le_count)\n",
    "\n",
    "print(testing.shape)"
   ]
  },
  {
   "cell_type": "code",
   "execution_count": 329,
   "metadata": {
    "collapsed": true
   },
   "outputs": [],
   "source": [
    "testing  = pd.get_dummies(testing)"
   ]
  },
  {
   "cell_type": "code",
   "execution_count": 331,
   "metadata": {
    "collapsed": true
   },
   "outputs": [],
   "source": [
    "#Get the encounter_id and patient_nbr\n",
    "testing_encounter = testing['encounter_id']\n",
    "testing = testing.drop(['encounter_id'],axis=1)"
   ]
  },
  {
   "cell_type": "code",
   "execution_count": 332,
   "metadata": {},
   "outputs": [
    {
     "data": {
      "text/plain": [
       "Index(['patient_nbr', 'admission_type_id', 'discharge_disposition_id',\n",
       "       'admission_source_id', 'time_in_hospital', 'num_lab_procedures',\n",
       "       'num_procedures', 'num_medications', 'number_outpatient',\n",
       "       'number_emergency',\n",
       "       ...\n",
       "       'miglitol_Steady', 'miglitol_Up', 'insulin_Down', 'insulin_No',\n",
       "       'insulin_Steady', 'insulin_Up', 'glyburide-metformin_Down',\n",
       "       'glyburide-metformin_No', 'glyburide-metformin_Steady',\n",
       "       'glyburide-metformin_Up'],\n",
       "      dtype='object', length=2369)"
      ]
     },
     "execution_count": 332,
     "metadata": {},
     "output_type": "execute_result"
    }
   ],
   "source": [
    "X_train.columns"
   ]
  },
  {
   "cell_type": "code",
   "execution_count": 334,
   "metadata": {
    "collapsed": true
   },
   "outputs": [],
   "source": [
    "#manage Mis-match shape of testing data to data used for model creation\n",
    "missing_cols = set( X_train.columns ) - set( testing.columns )\n",
    "# Add a missing column in test set with default value equal to 0\n",
    "for c in missing_cols:\n",
    "    \n",
    "    testing[c] = 0\n",
    "# Ensure the order of column in the test set is in the same order than in train set\n",
    "testing = testing[X_train.columns]"
   ]
  },
  {
   "cell_type": "code",
   "execution_count": 336,
   "metadata": {
    "collapsed": true
   },
   "outputs": [],
   "source": [
    "#We will impute and scale testing data simillar way \n",
    "testing = imputer.transform(testing)\n",
    "\n",
    "testing = scaler.transform(testing)"
   ]
  },
  {
   "cell_type": "code",
   "execution_count": 337,
   "metadata": {
    "collapsed": true
   },
   "outputs": [],
   "source": [
    "#Get prediction value of the testing data\n",
    "testing_score = log_reg.predict_proba(testing)[:,1]"
   ]
  },
  {
   "cell_type": "code",
   "execution_count": 339,
   "metadata": {
    "collapsed": true
   },
   "outputs": [],
   "source": [
    "#Create pandas dataframe for encounter_id and score \n",
    "\n",
    "test_output_list = list(zip(testing_encounter,testing_score))\n",
    "\n",
    "test_op = pd.DataFrame(test_output_list,columns=['encounter_id','predicted_probability'])\n",
    "\n",
    "test_op.to_csv('herle_syam.csv', sep=',', encoding='utf-8',index=False)"
   ]
  }
 ],
 "metadata": {
  "kernelspec": {
   "display_name": "Python 3",
   "language": "python",
   "name": "python3"
  },
  "language_info": {
   "codemirror_mode": {
    "name": "ipython",
    "version": 3
   },
   "file_extension": ".py",
   "mimetype": "text/x-python",
   "name": "python",
   "nbconvert_exporter": "python",
   "pygments_lexer": "ipython3",
   "version": "3.6.6"
  }
 },
 "nbformat": 4,
 "nbformat_minor": 2
}
